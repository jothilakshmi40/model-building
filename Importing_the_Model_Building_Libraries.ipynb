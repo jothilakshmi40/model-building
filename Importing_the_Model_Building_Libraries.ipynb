{
  "nbformat": 4,
  "nbformat_minor": 0,
  "metadata": {
    "colab": {
      "provenance": [],
      "mount_file_id": "1x1Y8YUOPwzkhN1jElQx9IY1773u9T2iF",
      "authorship_tag": "ABX9TyMKxLWOZ8bBAuLaJMMfIoJi",
      "include_colab_link": true
    },
    "kernelspec": {
      "name": "python3",
      "display_name": "Python 3"
    },
    "language_info": {
      "name": "python"
    },
    "accelerator": "GPU",
    "gpuClass": "standard"
  },
  "cells": [
    {
      "cell_type": "markdown",
      "metadata": {
        "id": "view-in-github",
        "colab_type": "text"
      },
      "source": [
        "<a href=\"https://colab.research.google.com/github/jothilakshmi40/model-building/blob/main/Importing_the_Model_Building_Libraries.ipynb\" target=\"_parent\"><img src=\"https://colab.research.google.com/assets/colab-badge.svg\" alt=\"Open In Colab\"/></a>"
      ]
    },
    {
      "cell_type": "code",
      "execution_count": 1,
      "metadata": {
        "id": "UONYA3EcLtOm"
      },
      "outputs": [],
      "source": [
        "import keras\n",
        "import tensorflow\n",
        "from tensorflow.keras.preprocessing.image import ImageDataGenerator\n",
        "from tensorflow.keras.preprocessing import image"
      ]
    },
    {
      "cell_type": "code",
      "source": [
        "#Define the parameters/arguments for ImageDataGenerator class\n",
        "train = ImageDataGenerator(rescale=1/255)\n",
        "test = ImageDataGenerator(rescale=1/255)"
      ],
      "metadata": {
        "id": "1S0MSzaVNXVs"
      },
      "execution_count": null,
      "outputs": []
    },
    {
      "cell_type": "code",
      "source": [
        "#Applying ImageDataGenerator functionality to trainset\n",
        "train_dataset = train.flow_from_directory(\"/content/drive/MyDrive/Dataset/train_set\",\n",
        "                                          target_size=(150,150),\n",
        "                                          batch_size = 32,\n",
        "                                          class_mode = 'binary')\n",
        "\n",
        "#Applying ImageDataGenerator functionality to testset\n",
        "test_dataset = test.flow_from_directory(\"/content/drive/MyDrive/Dataset/test_set\",\n",
        "                                          target_size=(150,150),\n",
        "                                          batch_size =32,\n",
        "                                          class_mode = 'binary')"
      ],
      "metadata": {
        "id": "rCj2GjlHPd64"
      },
      "execution_count": null,
      "outputs": []
    },
    {
      "cell_type": "markdown",
      "source": [
        "Found 436 images belonging to 2 classes.\n",
        "Found 121 images belonging to 2 classes."
      ],
      "metadata": {
        "id": "m_X_L_b9PmhW"
      }
    },
    {
      "cell_type": "code",
      "source": [
        "#import model building libraries\n",
        "\n",
        "#To define Linear initialisation import Sequential\n",
        "from keras.models import Sequential\n",
        "#To add layers import Dense\n",
        "from keras.layers import Dense\n",
        "#To create Convolution kernel import Convolution2D\n",
        "from keras.layers import Convolution2D\n",
        "#import Maxpooling layer\n",
        "from keras.layers import MaxPooling2D\n",
        "#import flatten layer\n",
        "from keras.layers import Flatten\n",
        "import warnings\n",
        "warnings.filterwarnings('ignore')"
      ],
      "metadata": {
        "id": "E4gPZmBcPsJl"
      },
      "execution_count": null,
      "outputs": []
    }
  ]
}